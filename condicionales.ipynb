{
 "cells": [
  {
   "cell_type": "markdown",
   "id": "451db4fa",
   "metadata": {},
   "source": [
    "# Condicionales"
   ]
  },
  {
   "cell_type": "markdown",
   "id": "0807d4b8",
   "metadata": {},
   "source": [
    "#### Programa que me pregunta si esta lloviendo o no y decido si sacar sombrilla"
   ]
  },
  {
   "cell_type": "code",
   "execution_count": 5,
   "id": "a4678fdf",
   "metadata": {},
   "outputs": [
    {
     "name": "stdout",
     "output_type": "stream",
     "text": [
      "Respuesta no valida, coloca si o no\n"
     ]
    }
   ],
   "source": [
    "respuesta = input(\"Esta lloviendo? porfavor digita si o no: \").lower()\n",
    "\n",
    "if respuesta == \"si\":\n",
    "    print(\"Saca la sombrilla te vas a mojar\")\n",
    "elif respuesta == \"no\":\n",
    "    print(\"No saques nada\")\n",
    "else:\n",
    "    print(\"Respuesta no valida, coloca si o no\")"
   ]
  },
  {
   "cell_type": "markdown",
   "id": "b343d1c4",
   "metadata": {},
   "source": [
    "#### Programa que verifica si la persona es mayor de edad puede ingresar al casino, si no no puede ingresar al casino."
   ]
  },
  {
   "cell_type": "code",
   "execution_count": 8,
   "id": "0a383c12",
   "metadata": {},
   "outputs": [
    {
     "name": "stdout",
     "output_type": "stream",
     "text": [
      "entrada autorizada\n"
     ]
    }
   ],
   "source": [
    "respuesta = int(input('ingresa tu edad de manera numerica: '))\n",
    "if respuesta < 18:\n",
    "    print('entrada denegada')\n",
    "elif respuesta >= 18:\n",
    "    print(\"entrada autorizada\")\n",
    "else :\n",
    "    print(\"Respuesta incorrecta\")"
   ]
  },
  {
   "cell_type": "markdown",
   "id": "91c7af48",
   "metadata": {},
   "source": [
    "### Hacerr un programa como si fuera un login con usuario y contraseña\n",
    "* Si el usuario coincide pero la contraseña no, imprima usuario correcto pero contraseña incorrecta\n",
    "* Si ninguno coincide decir usuario y contraseña incorrectos.\n",
    "* Si los dos coinciden decir login exitoso."
   ]
  },
  {
   "cell_type": "code",
   "execution_count": null,
   "id": "610b96db",
   "metadata": {},
   "outputs": [
    {
     "name": "stdout",
     "output_type": "stream",
     "text": [
      "Login exitoso\n"
     ]
    }
   ],
   "source": [
    "usuario = \"david15\"\n",
    "contrasena = \"12345\"\n",
    "\n",
    "user = input(\"Ingrese el usuario\")\n",
    "password = input(\"Ingrese la contraseña\")\n",
    "\n",
    "if usuario == user and contrasena == password:\n",
    "    print(\"Login exitoso\")\n",
    "elif usuario == user and contrasena != password:\n",
    "    print(\"Contraseña incorrecta\")\n",
    "\n",
    "else:\n",
    "    print(\"Datos no validos\")\n"
   ]
  }
 ],
 "metadata": {
  "kernelspec": {
   "display_name": "Python 3",
   "language": "python",
   "name": "python3"
  },
  "language_info": {
   "codemirror_mode": {
    "name": "ipython",
    "version": 3
   },
   "file_extension": ".py",
   "mimetype": "text/x-python",
   "name": "python",
   "nbconvert_exporter": "python",
   "pygments_lexer": "ipython3",
   "version": "3.13.3"
  }
 },
 "nbformat": 4,
 "nbformat_minor": 5
}
