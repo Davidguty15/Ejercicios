{
 "cells": [
  {
   "cell_type": "markdown",
   "metadata": {},
   "source": [
    "# Funciones en Python\n",
    "\n",
    "Las funciones en Python son bloques de código reutilizables que realizan una tarea específica. Permiten organizar el código, evitar repeticiones y hacerlo más legible."
   ]
  },
  {
   "cell_type": "markdown",
   "metadata": {},
   "source": [
    "## Estructura básica de una función\n",
    "\n",
    "La sintaxis básica para definir una función es:\n",
    "```python\n",
    "def nombre_funcion(parámetros):\n",
    "    '''Docstring opcional'''\n",
    "    # Cuerpo de la función\n",
    "    return valor\n",
    "```"
   ]
  },
  {
   "cell_type": "code",
   "execution_count": null,
   "metadata": {},
   "outputs": [],
   "source": [
    "# Ejemplo simple: función que suma dos números\n",
    "def sumar(a, b):\n",
    "    \"\"\"Devuelve la suma de a y b\"\"\"\n",
    "    return a + b\n",
    "\n",
    "resultado = sumar(3, 5)\n",
    "print(f\"La suma es: {resultado}\")"
   ]
  },
  {
   "cell_type": "markdown",
   "metadata": {},
   "source": [
    "## Funciones sin parámetros y sin valor de retorno\n",
    "\n",
    "Las funciones pueden no recibir parámetros ni devolver valores."
   ]
  },
  {
   "cell_type": "code",
   "execution_count": null,
   "metadata": {},
   "outputs": [],
   "source": [
    "def saludar():\n",
    "    print(\"¡Hola, bienvenido a Python!\")\n",
    "\n",
    "saludar()"
   ]
  },
  {
   "cell_type": "markdown",
   "metadata": {},
   "source": [
    "## Funciones con valores por defecto\n",
    "\n",
    "Puedes asignar valores por defecto a los parámetros."
   ]
  },
  {
   "cell_type": "code",
   "execution_count": null,
   "metadata": {},
   "outputs": [],
   "source": [
    "def presentar(nombre, edad=18):\n",
    "    print(f\"Nombre: {nombre}, Edad: {edad}\")\n",
    "\n",
    "presentar(\"Ana\", 25)\n",
    "presentar(\"Luis\")"
   ]
  },
  {
   "cell_type": "markdown",
   "metadata": {},
   "source": [
    "## Funciones que retornan múltiples valores\n",
    "\n",
    "Una función puede devolver varios valores separados por comas (como una tupla)."
   ]
  },
  {
   "cell_type": "code",
   "execution_count": 1,
   "metadata": {},
   "outputs": [
    {
     "name": "stdout",
     "output_type": "stream",
     "text": [
      "Suma: 14, Resta: 6\n"
     ]
    }
   ],
   "source": [
    "def operaciones(a, b):\n",
    "    suma = a + b\n",
    "    resta = a - b\n",
    "    return suma, resta\n",
    "\n",
    "s, r = operaciones(10, 4)\n",
    "print(f\"Suma: {s}, Resta: {r}\")"
   ]
  },
  {
   "cell_type": "markdown",
   "metadata": {},
   "source": [
    "## Funciones lambda (anónimas)\n",
    "\n",
    "Las funciones lambda son funciones pequeñas y anónimas, útiles para operaciones simples."
   ]
  },
  {
   "cell_type": "code",
   "execution_count": null,
   "metadata": {},
   "outputs": [],
   "source": [
    "cuadrado = lambda x: x ** 2\n",
    "print(cuadrado(6))"
   ]
  },
  {
   "cell_type": "markdown",
   "metadata": {},
   "source": [
    "---\n",
    "¡Ahora puedes crear y utilizar funciones en Python para organizar mejor tu código!"
   ]
  }
 ],
 "metadata": {
  "kernelspec": {
   "display_name": "Python 3",
   "language": "python",
   "name": "python3"
  },
  "language_info": {
   "codemirror_mode": {
    "name": "ipython",
    "version": 3
   },
   "file_extension": ".py",
   "mimetype": "text/x-python",
   "name": "python",
   "nbconvert_exporter": "python",
   "pygments_lexer": "ipython3",
   "version": "3.13.3"
  }
 },
 "nbformat": 4,
 "nbformat_minor": 2
}
